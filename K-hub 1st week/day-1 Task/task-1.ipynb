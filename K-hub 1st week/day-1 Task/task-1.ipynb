{
 "cells": [
  {
   "cell_type": "markdown",
   "id": "5eae6f8d",
   "metadata": {},
   "source": [
    "\"\"\"STRINGS AND ITS METHODS: \n",
    "strings in python can be denoted by using single quote ('  ') or double quote (\"    \")\n",
    "for example \"\"\"\n"
   ]
  },
  {
   "cell_type": "code",
   "execution_count": 13,
   "id": "510d422f",
   "metadata": {},
   "outputs": [
    {
     "name": "stdout",
     "output_type": "stream",
     "text": [
      "K-Hub\n",
      "k-Hub\n"
     ]
    }
   ],
   "source": [
    "print('K-Hub')# --A string inside  single quote \n",
    "print(\"k-Hub\")# --A string inside double quote"
   ]
  },
  {
   "cell_type": "markdown",
   "id": "647ac704",
   "metadata": {},
   "source": [
    "Assigning string  to a  variable using single (' ') and double quote(\" \")"
   ]
  },
  {
   "cell_type": "code",
   "execution_count": 14,
   "id": "50a0e1b1",
   "metadata": {},
   "outputs": [
    {
     "name": "stdout",
     "output_type": "stream",
     "text": [
      "-my string:K-Hub Task\n"
     ]
    }
   ],
   "source": [
    "string  ='K-Hub Task' # using single quote\n",
    "print(f\"-my string:{string}\")"
   ]
  },
  {
   "cell_type": "markdown",
   "id": "462a3760",
   "metadata": {},
   "source": [
    "Assign Multiline string to a variable by using triple single('''  ''') or double quotes(\"\"\" \"\"\") "
   ]
  },
  {
   "cell_type": "code",
   "execution_count": 15,
   "id": "0c525b0a",
   "metadata": {},
   "outputs": [
    {
     "name": "stdout",
     "output_type": "stream",
     "text": [
      "Greetings to everyone, \n",
      "myself K.Mohan, pursuing B.tech 3rd year in Kiet group of Institutions of stream Artificial intelligence and Data science\n"
     ]
    }
   ],
   "source": [
    "my_intro=\"\"\"Greetings to everyone, \n",
    "myself K.Mohan, pursuing B.tech 3rd year in Kiet group of Institutions of stream Artificial intelligence and Data science\"\"\"\n",
    "print(my_intro)"
   ]
  },
  {
   "cell_type": "markdown",
   "id": "0a2fb9d1",
   "metadata": {},
   "source": [
    "accessing elements of a string can be done by using square brackets-\"[]\"\"\n",
    "#note from index 0 the string begins and also revese indexing also considered ,a single balnk space also considered as a character including special characters"
   ]
  },
  {
   "cell_type": "code",
   "execution_count": 17,
   "id": "a76bfd0e",
   "metadata": {},
   "outputs": [
    {
     "name": "stdout",
     "output_type": "stream",
     "text": [
      "p\n"
     ]
    }
   ],
   "source": [
    "str=\"pavani\"\n",
    "print(str[0])"
   ]
  },
  {
   "cell_type": "markdown",
   "id": "1f6e9731",
   "metadata": {},
   "source": [
    "looping through a string"
   ]
  },
  {
   "cell_type": "code",
   "execution_count": 18,
   "id": "f0c4186e",
   "metadata": {},
   "outputs": [
    {
     "name": "stdout",
     "output_type": "stream",
     "text": [
      "K\n",
      ".\n",
      "M\n",
      "o\n",
      "h\n",
      "a\n",
      "n\n"
     ]
    }
   ],
   "source": [
    "my_string =\"K.Mohan\"\n",
    "for x in my_string:\n",
    "    print(x)"
   ]
  },
  {
   "cell_type": "markdown",
   "id": "81d5ecaf",
   "metadata": {},
   "source": [
    "To find the length of a string by using a method -\"len()\""
   ]
  },
  {
   "cell_type": "code",
   "execution_count": 19,
   "id": "e2f257cd",
   "metadata": {},
   "outputs": [
    {
     "name": "stdout",
     "output_type": "stream",
     "text": [
      "31\n"
     ]
    }
   ],
   "source": [
    "my_string =\"Kucharlapati Hari RamMohan Raju\"\n",
    "print(len(my_string))\n"
   ]
  },
  {
   "cell_type": "markdown",
   "id": "620738af",
   "metadata": {},
   "source": [
    "checking a string is present or not ,to check if a certain phrase or character is present in a string we can use keyword \" in \""
   ]
  },
  {
   "cell_type": "code",
   "execution_count": 20,
   "id": "56e80059",
   "metadata": {},
   "outputs": [
    {
     "name": "stdout",
     "output_type": "stream",
     "text": [
      "True\n"
     ]
    }
   ],
   "source": [
    "my_string =\"accessing elements of a string can be done by using square brackets\"\n",
    "print(\"string \" in my_string)   "
   ]
  },
  {
   "cell_type": "markdown",
   "id": "3931d25f",
   "metadata": {},
   "source": [
    "checking a string if not in"
   ]
  },
  {
   "cell_type": "code",
   "execution_count": 1,
   "id": "acf6a96c",
   "metadata": {},
   "outputs": [
    {
     "name": "stdout",
     "output_type": "stream",
     "text": [
      "True\n"
     ]
    }
   ],
   "source": [
    "my_string =\"accessing elements of a string can be done by using square brackets\"\n",
    "print(\"mohan\" not in my_string)\n"
   ]
  },
  {
   "cell_type": "markdown",
   "id": "859cff37",
   "metadata": {},
   "source": [
    "STRING METHODS\n",
    "#Capitalize() - converts the first character to upper case"
   ]
  },
  {
   "cell_type": "code",
   "execution_count": 3,
   "id": "2c4cb27f",
   "metadata": {},
   "outputs": [
    {
     "name": "stdout",
     "output_type": "stream",
     "text": [
      "Greetings to everyone, \n",
      "myself k.mohan, pursuing b.tech 3rd year in kiet group of institutions of stream artificial intelligence and data science\n"
     ]
    }
   ],
   "source": [
    "my_intro='''greetings to everyone, \n",
    "myself K.Mohan, pursuing B.tech 3rd year in Kiet group of Institutions of stream Artificial intelligence and Data science'''\n",
    "print(my_intro.capitalize())"
   ]
  },
  {
   "cell_type": "markdown",
   "id": "39bae6cb",
   "metadata": {},
   "source": [
    "Casefold() - converts string into lower case"
   ]
  },
  {
   "cell_type": "code",
   "execution_count": 6,
   "id": "7dde7057",
   "metadata": {},
   "outputs": [
    {
     "name": "stdout",
     "output_type": "stream",
     "text": [
      "greetings to everyone, \n",
      "myself k.mohan, pursuing b.tech 3rd year in kiet group of institutions of stream artificial intelligence and data science\n"
     ]
    }
   ],
   "source": [
    "my_intro='''Greetings to everyone, \n",
    "myself K.Mohan, pursuing B.tech 3rd year in Kiet group of Institutions of stream Artificial intelligence and Data science'''\n",
    "print(my_intro.casefold())\n"
   ]
  },
  {
   "cell_type": "markdown",
   "id": "a91e76e7",
   "metadata": {},
   "source": [
    "center() - Returns a centered string\n",
    "#syntax -string.center(length,character)-character is used to fill the empty spaces"
   ]
  },
  {
   "cell_type": "code",
   "execution_count": 8,
   "id": "b8d35ed8",
   "metadata": {},
   "outputs": [
    {
     "name": "stdout",
     "output_type": "stream",
     "text": [
      "                                                                    K.Mohan                                                                    \n"
     ]
    }
   ],
   "source": [
    "my_string =\"K.Mohan\"\n",
    "print(my_string.center(143))\n"
   ]
  },
  {
   "cell_type": "markdown",
   "id": "a0a655f0",
   "metadata": {},
   "source": [
    "count()- returns the number of times a specified value occurs in a string \n",
    "#syntax -string.count(value,start,end)"
   ]
  },
  {
   "cell_type": "code",
   "execution_count": 10,
   "id": "ac55a6be",
   "metadata": {},
   "outputs": [
    {
     "name": "stdout",
     "output_type": "stream",
     "text": [
      "7\n",
      "1\n"
     ]
    }
   ],
   "source": [
    "my_intro='''Greetings to everyone, myself K.Mohan, pursuing B.tech 3rd year in Kiet group of Institutions of stream Artificial intelligence and Data science'''\n",
    "print(my_intro.count(\"o\"))\n",
    "print(my_intro.count(\"o\",11,14))"
   ]
  },
  {
   "cell_type": "markdown",
   "id": "d0ff1e42",
   "metadata": {},
   "source": [
    "encode()  -Returns an encoded version of the string\n",
    "#syntax -string.encode(encoding=\"encode\",errors=\"errors\")"
   ]
  },
  {
   "cell_type": "code",
   "execution_count": 11,
   "id": "ba8064f0",
   "metadata": {},
   "outputs": [
    {
     "name": "stdout",
     "output_type": "stream",
     "text": [
      "b'My name is St\\\\xe5le'\n",
      "b'My name is Stle'\n",
      "b'My name is St\\\\N{LATIN SMALL LETTER A WITH RING ABOVE}le'\n",
      "b'My name is St?le'\n",
      "b'My name is St&#229;le'\n"
     ]
    }
   ],
   "source": [
    "string = \"My name is Ståle\"\n",
    "print(string.encode(encoding=\"ascii\",errors=\"backslashreplace\"))#'backslashreplace'\t- uses a backslash instead of the character that could not be encoded\n",
    "print(string.encode(encoding=\"ascii\",errors=\"ignore\"))#'ignore'\t- ignores the characters that cannot be encoded\n",
    "print(string.encode(encoding=\"ascii\",errors=\"namereplace\"))#'namereplace'\t- replaces the character with a text explaining the character\n",
    "print(string.encode(encoding=\"ascii\",errors=\"replace\"))#'strict'\t- Default, raises an error on failure\n",
    "print(string.encode(encoding=\"ascii\",errors=\"xmlcharrefreplace\"))#'xmlcharrefreplace'\t- replaces the character with an xml character\n"
   ]
  },
  {
   "cell_type": "markdown",
   "id": "6f4bf45d",
   "metadata": {},
   "source": [
    "#upper()  -Converts a string into upper case"
   ]
  },
  {
   "cell_type": "code",
   "execution_count": 12,
   "id": "5a166065",
   "metadata": {},
   "outputs": [
    {
     "name": "stdout",
     "output_type": "stream",
     "text": [
      "K.MOHAN\n"
     ]
    }
   ],
   "source": [
    "my_string =\"K.Mohan\"\n",
    "print(my_string.upper())"
   ]
  },
  {
   "cell_type": "markdown",
   "id": "c6768d64",
   "metadata": {},
   "source": [
    "#BOOLEAN\n",
    "\"\"\"Booleans represent one of two values: True or False.\n",
    "\n",
    "Boolean Values\n",
    "In programming you often need to know if an expression is True or False.\n",
    "You can evaluate any expression in Python, and get one of two answers, True or False.\"\"\""
   ]
  },
  {
   "cell_type": "markdown",
   "id": "4711997d",
   "metadata": {},
   "source": [
    "Print a message based on whether the condition is True or False:"
   ]
  },
  {
   "cell_type": "code",
   "execution_count": 21,
   "id": "f347af1f",
   "metadata": {},
   "outputs": [
    {
     "name": "stdout",
     "output_type": "stream",
     "text": [
      "b is not greater than a\n"
     ]
    }
   ],
   "source": [
    "a = 200\n",
    "b = 33\n",
    "if b > a:\n",
    "  print(\"b is greater than a\")\n",
    "else:\n",
    "  print(\"b is not greater than a\")"
   ]
  },
  {
   "cell_type": "markdown",
   "id": "afee0d8e",
   "metadata": {},
   "source": [
    "The bool() function allows you to evaluate any value, and give you True or False in return, "
   ]
  },
  {
   "cell_type": "code",
   "execution_count": 22,
   "id": "24d6e8ef",
   "metadata": {},
   "outputs": [
    {
     "name": "stdout",
     "output_type": "stream",
     "text": [
      "True\n",
      "True\n"
     ]
    }
   ],
   "source": [
    "x = \"mohan\"\n",
    "y = 15\n",
    "print(bool(x))\n",
    "print(bool(y))\n"
   ]
  },
  {
   "cell_type": "markdown",
   "id": "2f67d3f2",
   "metadata": {},
   "source": [
    "#OPERATORS -Operators are used to perform operations on variables and values.\n"
   ]
  },
  {
   "cell_type": "markdown",
   "id": "1d640770",
   "metadata": {},
   "source": [
    "1. Arithmetic Operators\n",
    "\n",
    "These operators are used to perform mathematical calculations like addition, subtraction, multiplication, and division."
   ]
  },
  {
   "cell_type": "code",
   "execution_count": 23,
   "id": "37ce0d25",
   "metadata": {},
   "outputs": [
    {
     "name": "stdout",
     "output_type": "stream",
     "text": [
      "Addition: 27\n",
      "Subtraction: 13\n",
      "Multiplication: 140\n",
      "Division: 2.857142857142857\n",
      "Modulo: 6\n",
      "Floor Division: 2\n",
      "Exponentiation: 400\n"
     ]
    }
   ],
   "source": [
    "num1 = 20\n",
    "num2 = 7\n",
    "# Addition\n",
    "print(f\"Addition: {num1 + num2}\")\n",
    "# Subtraction\n",
    "print(f\"Subtraction: {num1 - num2}\")\n",
    "# Multiplication\n",
    "print(f\"Multiplication: {num1 * num2}\")\n",
    "# Division\n",
    "print(f\"Division: {num1 / num2}\")\n",
    "# Modulo (Remainder)\n",
    "print(f\"Modulo: {num1 % num2}\")\n",
    "# Floor Division (Integer Division)\n",
    "print(f\"Floor Division: {num1 // num2}\")\n",
    "# Exponentiation\n",
    "print(f\"Exponentiation: {num1 ** 2}\")"
   ]
  },
  {
   "cell_type": "markdown",
   "id": "6ea74435",
   "metadata": {},
   "source": [
    "2. Comparison (Relational) Operators\n",
    "\n",
    "These operators are used to compare two values and return a boolean result (True or False)."
   ]
  },
  {
   "cell_type": "code",
   "execution_count": 24,
   "id": "d434290c",
   "metadata": {},
   "outputs": [
    {
     "name": "stdout",
     "output_type": "stream",
     "text": [
      "Is x equal to y? False\n",
      "Is x not equal to y? True\n",
      "Is x greater than y? True\n",
      "Is x less than y? False\n",
      "Is x greater than or equal to y? True\n",
      "Is x less than or equal to y? False\n"
     ]
    }
   ],
   "source": [
    "x = 15\n",
    "y = 10\n",
    "# Equal to\n",
    "print(f\"Is x equal to y? {x == y}\")\n",
    "# Not equal to\n",
    "print(f\"Is x not equal to y? {x != y}\")\n",
    "# Greater than\n",
    "print(f\"Is x greater than y? {x > y}\")\n",
    "# Less than\n",
    "print(f\"Is x less than y? {x < y}\")\n",
    "# Greater than or equal to\n",
    "print(f\"Is x greater than or equal to y? {x >= y}\")\n",
    "# Less than or equal to\n",
    "print(f\"Is x less than or equal to y? {x <= y}\")"
   ]
  },
  {
   "cell_type": "markdown",
   "id": "fc667fc3",
   "metadata": {},
   "source": [
    "3. Assignment Operators\n",
    "\n",
    "These operators are used to assign a value to a variable. They are often a shorthand for a common operation followed by an assignment."
   ]
  },
  {
   "cell_type": "code",
   "execution_count": 25,
   "id": "03d1e7a8",
   "metadata": {},
   "outputs": [
    {
     "name": "stdout",
     "output_type": "stream",
     "text": [
      "Initial value of a: 10\n",
      "After using 'a += 5': 15\n",
      "After using 'a *= 2': 30\n",
      "After using 'a -= 3': 27\n"
     ]
    }
   ],
   "source": [
    "a = 10\n",
    "print(f\"Initial value of a: {a}\")\n",
    "# a = a + 5\n",
    "a += 5\n",
    "print(f\"After using 'a += 5': {a}\")\n",
    "# a = a * 2\n",
    "a *= 2\n",
    "print(f\"After using 'a *= 2': {a}\")\n",
    "# a = a - 3\n",
    "a -= 3\n",
    "print(f\"After using 'a -= 3': {a}\")"
   ]
  },
  {
   "cell_type": "markdown",
   "id": "afcf9ac6",
   "metadata": {},
   "source": [
    "    4. Logical Operators\n",
    "    \n",
    "These operators are used to combine conditional statements. The main logical operators are and, or, and not."
   ]
  },
  {
   "cell_type": "code",
   "execution_count": 26,
   "id": "e110937b",
   "metadata": {},
   "outputs": [
    {
     "name": "stdout",
     "output_type": "stream",
     "text": [
      "You are eligible to drive.\n",
      "It is not sunny outside.\n"
     ]
    }
   ],
   "source": [
    "age = 25\n",
    "has_license = True\n",
    "# Using 'and'\n",
    "if age >= 18 and has_license:\n",
    "  print(\"You are eligible to drive.\")\n",
    "# Using 'or'\n",
    "if age < 18 or not has_license:\n",
    "  print(\"You are not eligible to drive.\")\n",
    "# Using 'not'\n",
    "is_sunny = False\n",
    "if not is_sunny:\n",
    "  print(\"It is not sunny outside.\")"
   ]
  },
  {
   "cell_type": "markdown",
   "id": "60f1b5e0",
   "metadata": {},
   "source": [
    "5. Identity Operators\n",
    "\n",
    "These operators (is, is not) are used to check if two variables point to the same object in memory."
   ]
  },
  {
   "cell_type": "code",
   "execution_count": 27,
   "id": "c82aff9c",
   "metadata": {},
   "outputs": [
    {
     "name": "stdout",
     "output_type": "stream",
     "text": [
      "Is x the same object as y? False\n",
      "Is x the same object as z? True\n",
      "Are the values of x and y equal? True\n"
     ]
    }
   ],
   "source": [
    "x = [1, 2, 3]\n",
    "y = [1, 2, 3]\n",
    "z = x\n",
    "# 'is' checks if x and y refer to the exact same object\n",
    "print(f\"Is x the same object as y? {x is y}\")\n",
    "# 'is' checks if x and z refer to the exact same object\n",
    "print(f\"Is x the same object as z? {x is z}\")\n",
    "# '==' checks if the values of x and y are the same (they are)\n",
    "print(f\"Are the values of x and y equal? {x == y}\")"
   ]
  },
  {
   "cell_type": "markdown",
   "id": "1f2fac57",
   "metadata": {},
   "source": [
    "6. Membership Operators\n",
    "\n",
    "These operators (in, not in) are used to test if a sequence (like a list, string, or tuple) contains a certain item."
   ]
  },
  {
   "cell_type": "code",
   "execution_count": 29,
   "id": "6b9a5e8f",
   "metadata": {},
   "outputs": [
    {
     "name": "stdout",
     "output_type": "stream",
     "text": [
      "Is 'banana' in the list? True\n",
      "Is 'orange' not in the list? True\n",
      "Is 't' in the word? True\n",
      "Is 'tho' in the word? True\n"
     ]
    }
   ],
   "source": [
    "fruits = [\"apple\", \"banana\", \"cherry\"]\n",
    "my_word = \"Python\"\n",
    "# 'in' checks if \"banana\" is in the 'fruits' list\n",
    "print(f\"Is 'banana' in the list? {'banana' in fruits}\")\n",
    "# 'not in' checks if \"orange\" is not in the 'fruits' list\n",
    "print(f\"Is 'orange' not in the list? {'orange' not in fruits}\")\n",
    "# 'in' also works with strings, checking for a character\n",
    "print(f\"Is 't' in the word? {'t' in my_word}\")\n",
    "# 'in' can check for a substring\n",
    "print(f\"Is 'tho' in the word? {'tho' in my_word}\")"
   ]
  },
  {
   "cell_type": "markdown",
   "id": "62bc2066",
   "metadata": {},
   "source": [
    "LIST  :\n",
    "\n",
    "1. Creating and Accessing a List\n",
    "This program demonstrates how to create a list and access its elements using both positive (starting from 0) and negative (starting from the end) indices.\n",
    "\n"
   ]
  },
  {
   "cell_type": "code",
   "execution_count": null,
   "id": "bf56b4e9",
   "metadata": {},
   "outputs": [
    {
     "name": "stdout",
     "output_type": "stream",
     "text": [
      "The first fruit is: apple\n",
      "The third fruit is: cherry\n",
      "The last fruit is: date\n",
      "The second to last fruit is: cherry\n"
     ]
    }
   ],
   "source": [
    "\n",
    "fruits = [\"apple\", \"banana\", \"cherry\", \"date\"]\n",
    "first_fruit = fruits[0]\n",
    "third_fruit = fruits[2]\n",
    "last_fruit = fruits[-1]\n",
    "second_to_last = fruits[-2]\n",
    "print(f\"The first fruit is: {first_fruit}\")\n",
    "print(f\"The third fruit is: {third_fruit}\")\n",
    "print(f\"The last fruit is: {last_fruit}\")\n",
    "print(f\"The second to last fruit is: {second_to_last}\")"
   ]
  },
  {
   "cell_type": "markdown",
   "id": "4a96487b",
   "metadata": {},
   "source": [
    "2. Modifying a List\n",
    "\n",
    "This program shows how to change the value of an element at a specific index."
   ]
  },
  {
   "cell_type": "code",
   "execution_count": 35,
   "id": "5cc7237d",
   "metadata": {},
   "outputs": [
    {
     "name": "stdout",
     "output_type": "stream",
     "text": [
      "Original list: [10, 20, 30, 40]\n",
      "Modified list: [10, 25, 30, 50]\n"
     ]
    }
   ],
   "source": [
    "numbers = [10, 20, 30, 40]\n",
    "print(f\"Original list: {numbers}\")\n",
    "numbers[1] = 25\n",
    "numbers[3] = 50\n",
    "print(f\"Modified list: {numbers}\")"
   ]
  },
  {
   "cell_type": "markdown",
   "id": "ab022d1e",
   "metadata": {},
   "source": [
    "3. Adding and Removing Elements\n",
    "\n",
    "This program demonstrates how to add elements to a list using append() and insert(), and how to remove them using remove() and pop().\n",
    "\n"
   ]
  },
  {
   "cell_type": "code",
   "execution_count": 36,
   "id": "c016c43a",
   "metadata": {},
   "outputs": [
    {
     "name": "stdout",
     "output_type": "stream",
     "text": [
      "Initial list: ['milk', 'bread', 'eggs']\n",
      "After appending 'cheese': ['milk', 'bread', 'eggs', 'cheese']\n",
      "After inserting 'yogurt': ['milk', 'yogurt', 'bread', 'eggs', 'cheese']\n",
      "After removing 'bread': ['milk', 'yogurt', 'eggs', 'cheese']\n",
      "Popped item: cheese\n",
      "List after pop: ['milk', 'yogurt', 'eggs']\n"
     ]
    }
   ],
   "source": [
    "shopping_list = [\"milk\", \"bread\", \"eggs\"]\n",
    "print(f\"Initial list: {shopping_list}\")\n",
    "# Add an element to the end of the list\n",
    "shopping_list.append(\"cheese\")\n",
    "print(f\"After appending 'cheese': {shopping_list}\")\n",
    "# Insert an element at a specific position (index 1)\n",
    "shopping_list.insert(1, \"yogurt\")\n",
    "print(f\"After inserting 'yogurt': {shopping_list}\")\n",
    "# Remove an item by its value\n",
    "shopping_list.remove(\"bread\")\n",
    "print(f\"After removing 'bread': {shopping_list}\")\n",
    "# Remove the last item and get its value\n",
    "last_item = shopping_list.pop()\n",
    "print(f\"Popped item: {last_item}\")\n",
    "print(f\"List after pop: {shopping_list}\")"
   ]
  },
  {
   "cell_type": "markdown",
   "id": "751f3927",
   "metadata": {},
   "source": [
    "4. Iterating Through a List\n",
    "\n",
    "This program uses a for loop to go through each item in a list and perform an action."
   ]
  },
  {
   "cell_type": "code",
   "execution_count": 37,
   "id": "ef436c29",
   "metadata": {},
   "outputs": [
    {
     "name": "stdout",
     "output_type": "stream",
     "text": [
      "The current color is: red\n",
      "The current color is: green\n",
      "The current color is: blue\n"
     ]
    }
   ],
   "source": [
    "colors = [\"red\", \"green\", \"blue\"]\n",
    "for color in colors:\n",
    "  print(f\"The current color is: {color}\")"
   ]
  },
  {
   "cell_type": "markdown",
   "id": "c5943b4d",
   "metadata": {},
   "source": [
    "5. Checking for an Item and Finding the Length\n",
    "\n",
    "This program shows how to check if an item exists in a list and how to get the total number of elements.\n",
    "\n"
   ]
  },
  {
   "cell_type": "code",
   "execution_count": null,
   "id": "ffd94c80",
   "metadata": {},
   "outputs": [
    {
     "name": "stdout",
     "output_type": "stream",
     "text": [
      "London is in the list of cities.\n",
      "Berlin is not in the list of cities.\n",
      "There are 4 cities in the list.\n"
     ]
    }
   ],
   "source": [
    "cities = [\"New York\", \"London\", \"Paris\", \"Tokyo\"]\n",
    "if \"London\" in cities:\n",
    "  print(\"London is in the list of cities.\")\n",
    "if \"Berlin\" not in cities:\n",
    "  print(\"Berlin is not in the list of cities.\")\n",
    "number_of_cities = len(cities)\n",
    "print(f\"There are {number_of_cities} cities in the list.\")"
   ]
  },
  {
   "cell_type": "markdown",
   "id": "d8be6fc2",
   "metadata": {},
   "source": [
    "6.LIST METHODS-\n",
    "\n",
    "append() - Adds an element to the end\n",
    "The append() method adds a single item to the end of a list."
   ]
  },
  {
   "cell_type": "code",
   "execution_count": 39,
   "id": "913a34d9",
   "metadata": {},
   "outputs": [
    {
     "name": "stdout",
     "output_type": "stream",
     "text": [
      "Original list: ['apple', 'banana']\n",
      "After append(): ['apple', 'banana', 'cherry']\n"
     ]
    }
   ],
   "source": [
    "fruits = [\"apple\", \"banana\"]\n",
    "print(f\"Original list: {fruits}\")\n",
    "fruits.append(\"cherry\")\n",
    "print(f\"After append(): {fruits}\")"
   ]
  },
  {
   "cell_type": "markdown",
   "id": "166c5a09",
   "metadata": {},
   "source": [
    "7. extend() - Appends elements from another iterable\n",
    "\n",
    "The extend() method adds all the items of an iterable (like another list, a tuple, etc.) to the end of the current list."
   ]
  },
  {
   "cell_type": "code",
   "execution_count": 41,
   "id": "25b9eea2",
   "metadata": {},
   "outputs": [
    {
     "name": "stdout",
     "output_type": "stream",
     "text": [
      "Original list1: ['a', 'b', 'c']\n",
      "After extend(): ['a', 'b', 'c', 'd', 'e', 'f']\n"
     ]
    }
   ],
   "source": [
    "list1 = [\"a\", \"b\", \"c\"]\n",
    "list2 = [\"d\", \"e\", \"f\"]\n",
    "print(f\"Original list1: {list1}\")\n",
    "list1.extend(list2)\n",
    "print(f\"After extend(): {list1}\")"
   ]
  },
  {
   "cell_type": "markdown",
   "id": "8ec669e4",
   "metadata": {},
   "source": [
    "8.insert() - Adds an element at a specific index\n",
    "\n",
    "The insert() method adds an item at a specified position in the list. It takes two arguments: the index and the item."
   ]
  },
  {
   "cell_type": "code",
   "execution_count": 43,
   "id": "70806d09",
   "metadata": {},
   "outputs": [
    {
     "name": "stdout",
     "output_type": "stream",
     "text": [
      "Original list: ['red', 'green', 'blue']\n",
      "After insert(): ['red', 'yellow', 'green', 'blue']\n"
     ]
    }
   ],
   "source": [
    "colors = [\"red\", \"green\", \"blue\"]\n",
    "print(f\"Original list: {colors}\")\n",
    "colors.insert(1, \"yellow\")\n",
    "print(f\"After insert(): {colors}\")"
   ]
  },
  {
   "cell_type": "markdown",
   "id": "00c022bd",
   "metadata": {},
   "source": [
    "9. remove() - Removes an element by value\n",
    "\n",
    "The remove() method removes the first occurrence of the specified value."
   ]
  },
  {
   "cell_type": "code",
   "execution_count": 47,
   "id": "237c644c",
   "metadata": {},
   "outputs": [
    {
     "name": "stdout",
     "output_type": "stream",
     "text": [
      "Original list: [10, 20, 30, 20]\n",
      "After remove(20): [10, 30, 20]\n"
     ]
    }
   ],
   "source": [
    "numbers = [10, 20, 30, 20]\n",
    "print(f\"Original list: {numbers}\")\n",
    "numbers.remove(20)\n",
    "print(f\"After remove(20): {numbers}\")"
   ]
  },
  {
   "cell_type": "markdown",
   "id": "47b1d18e",
   "metadata": {},
   "source": [
    "10. pop() - Removes and returns an element at a specific index\n",
    "\n",
    "The pop() method removes an element at the given index and returns its value. If no index is specified, it removes and returns the last item."
   ]
  },
  {
   "cell_type": "code",
   "execution_count": 50,
   "id": "f6c2b641",
   "metadata": {},
   "outputs": [
    {
     "name": "stdout",
     "output_type": "stream",
     "text": [
      "Original list: ['milk', 'bread', 'eggs']\n",
      "Popped item: bread\n",
      "List after pop(1): ['milk', 'eggs']\n",
      "Popped last item: eggs\n",
      "List after pop(): ['milk']\n"
     ]
    }
   ],
   "source": [
    "shopping_list = [\"milk\", \"bread\", \"eggs\"]\n",
    "print(f\"Original list: {shopping_list}\")\n",
    "popped_item = shopping_list.pop(1)\n",
    "print(f\"Popped item: {popped_item}\")\n",
    "print(f\"List after pop(1): {shopping_list}\")\n",
    "last_item = shopping_list.pop()\n",
    "print(f\"Popped last item: {last_item}\")\n",
    "print(f\"List after pop(): {shopping_list}\")"
   ]
  },
  {
   "cell_type": "markdown",
   "id": "55b03628",
   "metadata": {},
   "source": [
    "11.clear() - Removes all elements\n",
    "\n",
    "The clear() method removes all the elements from the list, making it empty."
   ]
  },
  {
   "cell_type": "code",
   "execution_count": 51,
   "id": "9d09ae15",
   "metadata": {},
   "outputs": [
    {
     "name": "stdout",
     "output_type": "stream",
     "text": [
      "Original list: [1, 2, 3]\n",
      "After clear(): []\n"
     ]
    }
   ],
   "source": [
    "my_list = [1, 2, 3]\n",
    "print(f\"Original list: {my_list}\")\n",
    "my_list.clear()\n",
    "print(f\"After clear(): {my_list}\")"
   ]
  },
  {
   "cell_type": "markdown",
   "id": "f7dc2d72",
   "metadata": {},
   "source": [
    "12.index() - Returns the index of an element\n",
    "\n",
    "The index() method returns the index of the first occurrence of the specified value. It will raise an error if the value is not found."
   ]
  },
  {
   "cell_type": "code",
   "execution_count": 54,
   "id": "462a4cf5",
   "metadata": {},
   "outputs": [
    {
     "name": "stdout",
     "output_type": "stream",
     "text": [
      "The index of 'c' is: 2\n",
      "The first index of 'a' is: 0\n"
     ]
    }
   ],
   "source": [
    "letters = ['a', 'b', 'c', 'a']\n",
    "index_of_c = letters.index('c')\n",
    "print(f\"The index of 'c' is: {index_of_c}\")\n",
    "index_of_a = letters.index('a')\n",
    "print(f\"The first index of 'a' is: {index_of_a}\")"
   ]
  },
  {
   "cell_type": "markdown",
   "id": "52a70f25",
   "metadata": {},
   "source": [
    "13.count() - Counts the occurrences of an element\n",
    "\n",
    "The count() method returns the number of times a specified value appears in the list."
   ]
  },
  {
   "cell_type": "code",
   "execution_count": 57,
   "id": "f8eb12f5",
   "metadata": {},
   "outputs": [
    {
     "name": "stdout",
     "output_type": "stream",
     "text": [
      "The number 1 appears 3 times.\n"
     ]
    }
   ],
   "source": [
    "my_numbers = [1, 2, 3, 1, 4, 1, 111]\n",
    "count_of_one = my_numbers.count(1)\n",
    "print(f\"The number 1 appears {count_of_one} times.\")"
   ]
  },
  {
   "cell_type": "markdown",
   "id": "65787e9a",
   "metadata": {},
   "source": [
    "14.sort() - Sorts the list in ascending order\n",
    "\n",
    "The sort() method sorts the items of the list in place (modifies the original list). By default, it sorts in ascending order. You can use reverse=True to sort in descending order."
   ]
  },
  {
   "cell_type": "code",
   "execution_count": null,
   "id": "4ae597e1",
   "metadata": {},
   "outputs": [
    {
     "name": "stdout",
     "output_type": "stream",
     "text": [
      "Sorted list (ascending): [1, 1, 2, 3, 4, 5, 9]\n",
      "Sorted list (descending): [9, 5, 4, 3, 2, 1, 1]\n"
     ]
    }
   ],
   "source": [
    "numbers = [3, 1, 4, 1, 5, 9, 2]\n",
    "numbers.sort()\n",
    "print(f\"Sorted list (ascending): {numbers}\")\n",
    "numbers.sort(reverse=True)\n",
    "print(f\"Sorted list (descending): {numbers}\")"
   ]
  },
  {
   "cell_type": "markdown",
   "id": "3ea1daa0",
   "metadata": {},
   "source": [
    "15.reverse() - Reverses the order of the list\n",
    "\n",
    "The reverse() method reverses the sorting order of the elements in the list."
   ]
  },
  {
   "cell_type": "code",
   "execution_count": 62,
   "id": "13172b1e",
   "metadata": {},
   "outputs": [
    {
     "name": "stdout",
     "output_type": "stream",
     "text": [
      "Original list: ['z', 'a', 'b']\n",
      "Reversed list: ['b', 'a', 'z']\n"
     ]
    }
   ],
   "source": [
    "data = [\"z\", \"a\", \"b\"]\n",
    "print(f\"Original list: {data}\")\n",
    "data.reverse()\n",
    "print(f\"Reversed list: {data}\")"
   ]
  },
  {
   "cell_type": "markdown",
   "id": "480dedc8",
   "metadata": {},
   "source": [
    "16.copy() - Creates a copy of the list\n",
    "\n",
    "The copy() method returns a shallow copy of the list. This is important to create an independent list that can be modified without affecting the original."
   ]
  },
  {
   "cell_type": "code",
   "execution_count": 63,
   "id": "be3b151e",
   "metadata": {},
   "outputs": [
    {
     "name": "stdout",
     "output_type": "stream",
     "text": [
      "Original list: [10, 20, 30]\n",
      "Copied list: [10, 20, 30]\n",
      "Original after change: [10, 20, 30]\n",
      "Copied after change: [10, 20, 30, 40]\n"
     ]
    }
   ],
   "source": [
    "original_list = [10, 20, 30]\n",
    "copied_list = original_list.copy()\n",
    "print(f\"Original list: {original_list}\")\n",
    "print(f\"Copied list: {copied_list}\")\n",
    "copied_list.append(40)\n",
    "print(f\"Original after change: {original_list}\")\n",
    "print(f\"Copied after change: {copied_list}\")"
   ]
  },
  {
   "cell_type": "markdown",
   "id": "00199f54",
   "metadata": {},
   "source": [
    "TUPLES :\n",
    "\n",
    "1. Tuple Creation and Access"
   ]
  },
  {
   "cell_type": "code",
   "execution_count": 67,
   "id": "83980f9a",
   "metadata": {},
   "outputs": [
    {
     "name": "stdout",
     "output_type": "stream",
     "text": [
      "My tuple: ('apple', 10, True, 3.14)\n",
      "The first element is: apple\n",
      "The last element is: 3.14\n",
      "A slice from index 1 to 3: (10, True)\n",
      "A single-element tuple: ('hello',)\n"
     ]
    }
   ],
   "source": [
    "\n",
    "my_tuple = (\"apple\", 10, True, 3.14)\n",
    "print(f\"My tuple: {my_tuple}\")\n",
    "first_element = my_tuple[0]\n",
    "print(f\"The first element is: {first_element}\")\n",
    "last_element = my_tuple[-1]\n",
    "print(f\"The last element is: {last_element}\")\n",
    "slice_of_tuple = my_tuple[1:3]\n",
    "print(f\"A slice from index 1 to 3: {slice_of_tuple}\")\n",
    "# A tuple with a single element must have a trailing comma\n",
    "single_element_tuple = (\"hello\",)\n",
    "print(f\"A single-element tuple: {single_element_tuple}\")"
   ]
  },
  {
   "cell_type": "markdown",
   "id": "607e726c",
   "metadata": {},
   "source": [
    "2. Tuples are Immutable (Demonstration)\n",
    "\n",
    "This program shows that trying to change an element in a tuple will result in an error."
   ]
  },
  {
   "cell_type": "code",
   "execution_count": null,
   "id": "26ccc6ec",
   "metadata": {},
   "outputs": [
    {
     "name": "stdout",
     "output_type": "stream",
     "text": [
      "Original tuple: ('a', 'b', 'c')\n",
      "Error: 'tuple' object does not support item assignment\n"
     ]
    }
   ],
   "source": [
    "immutable_tuple = (\"a\", \"b\", \"c\")\n",
    "print(f\"Original tuple: {immutable_tuple}\")\n",
    "# This line will cause a TypeError because tuples are immutable\n",
    "try:\n",
    "  immutable_tuple[0] = \"x\"\n",
    "except TypeError as e:\n",
    "  print(f\"Error: {e}\")"
   ]
  },
  {
   "cell_type": "markdown",
   "id": "fff896d8",
   "metadata": {},
   "source": [
    "3. count() - Counts the occurrences of an item\n",
    "\n",
    "The count() method returns the number of times a specified value appears in the tuple."
   ]
  },
  {
   "cell_type": "code",
   "execution_count": 71,
   "id": "69110131",
   "metadata": {},
   "outputs": [
    {
     "name": "stdout",
     "output_type": "stream",
     "text": [
      "The tuple is: (1, 2, 3, 1, 4, 1)\n",
      "The number 1 appears 3 times.\n"
     ]
    }
   ],
   "source": [
    "my_numbers = (1, 2, 3, 1, 4, 1)\n",
    "count_of_one = my_numbers.count(1)\n",
    "print(f\"The tuple is: {my_numbers}\")\n",
    "print(f\"The number 1 appears {count_of_one} times.\")"
   ]
  },
  {
   "cell_type": "markdown",
   "id": "f98a66f7",
   "metadata": {},
   "source": [
    "4.index() - Returns the index of an item\n",
    "\n",
    "The index() method returns the index of the first occurrence of the specified value. It will raise a ValueError if the item is not found."
   ]
  },
  {
   "cell_type": "code",
   "execution_count": 74,
   "id": "21137406",
   "metadata": {},
   "outputs": [
    {
     "name": "stdout",
     "output_type": "stream",
     "text": [
      "The index of 'green' is: 1\n",
      "Error: tuple.index(x): x not in tuple\n"
     ]
    }
   ],
   "source": [
    "my_tuple = (\"red\", \"green\", \"blue\", \"green\")\n",
    "index_of_green = my_tuple.index(\"green\")\n",
    "print(f\"The index of 'green' is: {index_of_green}\")\n",
    "# If the item is not in the tuple, it will raise an error\n",
    "try:\n",
    "  index_of_yellow = my_tuple.index(\"yellow\")\n",
    "except ValueError as a:\n",
    "  print(f\"Error: {a}\")"
   ]
  },
  {
   "cell_type": "markdown",
   "id": "7b8db25c",
   "metadata": {},
   "source": [
    "SET:\n",
    "\n",
    "Sets are unordered collections of unique elements. Duplicate items are automatically removed."
   ]
  },
  {
   "cell_type": "markdown",
   "id": "f20d46d9",
   "metadata": {},
   "source": [
    "1.Set creation"
   ]
  },
  {
   "cell_type": "code",
   "execution_count": 76,
   "id": "b7667f8d",
   "metadata": {},
   "outputs": [
    {
     "name": "stdout",
     "output_type": "stream",
     "text": [
      "Set created with unique items: {'cherry', 'apple', 'banana'}\n",
      "Set created from a list (duplicates removed): {'cherry', 'apple', 'banana'}\n"
     ]
    }
   ],
   "source": [
    "\n",
    "my_set = {\"apple\", \"banana\", \"cherry\"}\n",
    "print(f\"Set created with unique items: {my_set}\")\n",
    "my_list = [\"apple\", \"banana\", \"cherry\", \"apple\"]\n",
    "unique_set = set(my_list)\n",
    "print(f\"Set created from a list (duplicates removed): {unique_set}\")"
   ]
  },
  {
   "cell_type": "markdown",
   "id": "fab465e5",
   "metadata": {},
   "source": [
    "2. Adding and Removing Elements\n",
    "\n",
    " How to add and remove items from a set using the add(), remove(), discard(), and clear() methods."
   ]
  },
  {
   "cell_type": "code",
   "execution_count": 78,
   "id": "ec7a45b6",
   "metadata": {},
   "outputs": [
    {
     "name": "stdout",
     "output_type": "stream",
     "text": [
      "Initial set: {'apple', 'banana'}\n",
      "After adding 'orange': {'apple', 'banana', 'orange'}\n",
      "After removing 'banana': {'apple', 'orange'}\n",
      "After trying to discard 'grape': {'apple', 'orange'}\n",
      "After clearing the set: set()\n"
     ]
    }
   ],
   "source": [
    "fruits = {\"apple\", \"banana\"}\n",
    "print(f\"Initial set: {fruits}\")\n",
    "fruits.add(\"orange\")\n",
    "print(f\"After adding 'orange': {fruits}\")\n",
    "try:\n",
    "  fruits.remove(\"banana\")\n",
    "  print(f\"After removing 'banana': {fruits}\")\n",
    "except KeyError:\n",
    "  print(\"Item not found in set.\")\n",
    "# Use discard(), which is safer as it does not raise an error if the item is not present.\n",
    "fruits.discard(\"grape\")\n",
    "print(f\"After trying to discard 'grape': {fruits}\")\n",
    "fruits.clear()\n",
    "print(f\"After clearing the set: {fruits}\")"
   ]
  },
  {
   "cell_type": "markdown",
   "id": "dcc829aa",
   "metadata": {},
   "source": [
    "3. Set Operations (Mathematical):\n",
    "\n",
    "Sets are excellent for performing mathematical operations like union, intersection, and difference"
   ]
  },
  {
   "cell_type": "code",
   "execution_count": 80,
   "id": "8034fff0",
   "metadata": {},
   "outputs": [
    {
     "name": "stdout",
     "output_type": "stream",
     "text": [
      "Union of set1 and set2: {1, 2, 3, 4, 5, 6}\n",
      "Union using '|' operator: {1, 2, 3, 4, 5, 6}\n",
      "Intersection of set1 and set2: {3, 4}\n",
      "Intersection using '&' operator: {3, 4}\n",
      "Difference (set1 - set2): {1, 2}\n",
      "Difference using '-' operator: {1, 2}\n",
      "Symmetric Difference: {1, 2, 5, 6}\n",
      "Symmetric Difference using '^' operator: {1, 2, 5, 6}\n"
     ]
    }
   ],
   "source": [
    "set1 = {1, 2, 3, 4}\n",
    "set2 = {3, 4, 5, 6}\n",
    "set_union = set1.union(set2)\n",
    "print(f\"Union of set1 and set2: {set_union}\")\n",
    "# Alternatively, you can use the | operator\n",
    "set_union_op = set1 | set2\n",
    "print(f\"Union using '|' operator: {set_union_op}\")\n",
    "\n",
    "set_intersection = set1.intersection(set2)\n",
    "print(f\"Intersection of set1 and set2: {set_intersection}\")\n",
    "# Alternatively, you can use the & operator\n",
    "set_intersection_op = set1 & set2\n",
    "print(f\"Intersection using '&' operator: {set_intersection_op}\")\n",
    "\n",
    "set_difference = set1.difference(set2)\n",
    "print(f\"Difference (set1 - set2): {set_difference}\")\n",
    "# Alternatively, you can use the - operator\n",
    "set_difference_op = set1 - set2\n",
    "print(f\"Difference using '-' operator: {set_difference_op}\")\n",
    "\n",
    "set_symmetric_difference = set1.symmetric_difference(set2)\n",
    "print(f\"Symmetric Difference: {set_symmetric_difference}\")\n",
    "# Alternatively, you can use the ^ operator\n",
    "set_symmetric_difference_op = set1 ^ set2\n",
    "print(f\"Symmetric Difference using '^' operator: {set_symmetric_difference_op}\")"
   ]
  },
  {
   "cell_type": "markdown",
   "id": "63570c93",
   "metadata": {},
   "source": [
    "4. Checking for an Item and Length\n",
    "\n",
    "How to check if an element is in a set and how to find the number of elements."
   ]
  },
  {
   "cell_type": "code",
   "execution_count": 81,
   "id": "f40138fe",
   "metadata": {},
   "outputs": [
    {
     "name": "stdout",
     "output_type": "stream",
     "text": [
      "Bike is in the set.\n",
      "Boat is not in the set.\n",
      "The set has 3 elements.\n"
     ]
    }
   ],
   "source": [
    "my_set = {\"car\", \"bike\", \"plane\"}\n",
    "if \"bike\" in my_set:\n",
    "  print(\"Bike is in the set.\")\n",
    "if \"boat\" not in my_set:\n",
    "  print(\"Boat is not in the set.\")\n",
    "# Get the number of elements in the set\n",
    "set_length = len(my_set)\n",
    "print(f\"The set has {set_length} elements.\")"
   ]
  },
  {
   "cell_type": "markdown",
   "id": "86478b7c",
   "metadata": {},
   "source": [
    "DICTIONARY:\n",
    "\n",
    "1.Creation and Access"
   ]
  },
  {
   "cell_type": "code",
   "execution_count": null,
   "id": "4d486551",
   "metadata": {},
   "outputs": [
    {
     "name": "stdout",
     "output_type": "stream",
     "text": [
      "The dictionary is: {'name': 'Alice', 'age': 30, 'city': 'New York'}\n",
      "The person's name is: Alice\n",
      "Error: 'country'\n"
     ]
    }
   ],
   "source": [
    "person = {\n",
    "    \"name\": \"Alice\",\n",
    "    \"age\": 30,\n",
    "    \"city\": \"New York\"\n",
    "}\n",
    "print(f\"The dictionary is: {person}\")\n",
    "name = person[\"name\"]\n",
    "print(f\"The person's name is: {name}\")\n",
    "\n",
    "# Accessing a value for a key that doesn't exist will cause an error\n",
    "try:\n",
    "  country = person[\"country\"]\n",
    "except KeyError as e:\n",
    "  print(f\"Error: {e}\")"
   ]
  },
  {
   "cell_type": "markdown",
   "id": "ee96ceb6",
   "metadata": {},
   "source": [
    "2. Adding and Modifying Elements in Dictionary"
   ]
  },
  {
   "cell_type": "code",
   "execution_count": 85,
   "id": "8c2e74c8",
   "metadata": {},
   "outputs": [
    {
     "name": "stdout",
     "output_type": "stream",
     "text": [
      "Initial dictionary: {'brand': 'Ford', 'model': 'Mustang', 'year': 1964}\n",
      "After adding a new key: {'brand': 'Ford', 'model': 'Mustang', 'year': 1964, 'color': 'red'}\n",
      "After modifying 'year': {'brand': 'Ford', 'model': 'Mustang', 'year': 1970, 'color': 'red'}\n",
      "After modifying 'brand': {'brand': 'Supra', 'model': 'Mustang', 'year': 1970, 'color': 'red'}\n"
     ]
    }
   ],
   "source": [
    "car = {\n",
    "    \"brand\": \"Ford\",\n",
    "    \"model\": \"Mustang\",\n",
    "    \"year\": 1964\n",
    "}\n",
    "print(f\"Initial dictionary: {car}\")\n",
    "car[\"color\"] = \"red\"\n",
    "print(f\"After adding a new key: {car}\")\n",
    "car[\"year\"] = 1970\n",
    "print(f\"After modifying 'year': {car}\")\n",
    "car[\"brand\"]=\"Supra\"\n",
    "print(f\"After modifying 'brand': {car}\")"
   ]
  },
  {
   "cell_type": "markdown",
   "id": "24a3d6cb",
   "metadata": {},
   "source": [
    "3. Removing Elements in Dictionary\n"
   ]
  },
  {
   "cell_type": "code",
   "execution_count": 87,
   "id": "4862161e",
   "metadata": {},
   "outputs": [
    {
     "name": "stdout",
     "output_type": "stream",
     "text": [
      "Initial dictionary: {'name': 'Bob', 'id': 101, 'grade': 'A'}\n",
      "Removed grade: A\n",
      "After using pop(): {'name': 'Bob', 'id': 101}\n",
      "After using del: {'name': 'Bob'}\n",
      "After using clear(): {}\n"
     ]
    }
   ],
   "source": [
    "student = {\n",
    "    \"name\": \"Bob\",\n",
    "    \"id\": 101,\n",
    "    \"grade\": \"A\"\n",
    "}\n",
    "print(f\"Initial dictionary: {student}\")\n",
    "removed_grade = student.pop(\"grade\")\n",
    "print(f\"Removed grade: {removed_grade}\")\n",
    "print(f\"After using pop(): {student}\")\n",
    "del student[\"id\"]\n",
    "print(f\"After using del: {student}\")\n",
    "student.clear()\n",
    "print(f\"After using clear(): {student}\")"
   ]
  },
  {
   "cell_type": "markdown",
   "id": "3fc67ba5",
   "metadata": {},
   "source": [
    "4. Dictionary Methods (keys(), values(), items(), get())\n",
    "\n",
    "These methods are used to get views of the dictionary's contents and to safely retrieve values."
   ]
  },
  {
   "cell_type": "code",
   "execution_count": null,
   "id": "3c7d26ac",
   "metadata": {},
   "outputs": [
    {
     "name": "stdout",
     "output_type": "stream",
     "text": [
      "Keys: dict_keys(['name', 'price', 'stock'])\n",
      "Values: dict_values(['Laptop', 1200, 50])\n",
      "Items: dict_items([('name', 'Laptop'), ('price', 1200), ('stock', 50)])\n",
      "Stock count: 50\n",
      "Warranty info: None\n",
      "Warranty info with default: Not available\n"
     ]
    }
   ],
   "source": [
    "product = {\n",
    "    \"name\": \"Laptop\",\n",
    "    \"price\": 1200,\n",
    "    \"stock\": 50\n",
    "}\n",
    "keys_list = product.keys()\n",
    "print(f\"Keys: {keys_list}\")\n",
    "\n",
    "values_list = product.values()\n",
    "print(f\"Values: {values_list}\")\n",
    "\n",
    "items_list = product.items()\n",
    "print(f\"Items: {items_list}\")\n",
    "\n",
    "stock_count = product.get(\"stock\")\n",
    "print(f\"Stock count: {stock_count}\")\n",
    "\n",
    "warranty = product.get(\"warranty\")\n",
    "print(f\"Warranty info: {warranty}\")\n",
    "\n",
    "warranty_default = product.get(\"warranty\", \"Not available\")\n",
    "print(f\"Warranty info with default: {warranty_default}\")"
   ]
  }
 ],
 "metadata": {
  "kernelspec": {
   "display_name": "Python 3",
   "language": "python",
   "name": "python3"
  },
  "language_info": {
   "codemirror_mode": {
    "name": "ipython",
    "version": 3
   },
   "file_extension": ".py",
   "mimetype": "text/x-python",
   "name": "python",
   "nbconvert_exporter": "python",
   "pygments_lexer": "ipython3",
   "version": "3.10.11"
  }
 },
 "nbformat": 4,
 "nbformat_minor": 5
}
