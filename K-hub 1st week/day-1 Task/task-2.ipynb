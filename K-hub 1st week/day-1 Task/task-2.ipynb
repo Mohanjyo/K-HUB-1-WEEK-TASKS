{
 "cells": [
  {
   "cell_type": "markdown",
   "id": "8db76ee7",
   "metadata": {},
   "source": [
    "loops :\n",
    "Python has two primitive loop commands:\n",
    "\n",
    "while loops\n",
    "\n",
    "for loops"
   ]
  },
  {
   "cell_type": "markdown",
   "id": "396a77b9",
   "metadata": {},
   "source": [
    "The while Loop,\n",
    "With the while loop we can execute a set of statements as long as a condition is true.\n",
    "1. Simple Counter\n",
    "This is the most basic use of a while loop, where you have a counter variable that increments until a condition is met.\n"
   ]
  },
  {
   "cell_type": "code",
   "execution_count": null,
   "id": "fbb1be19",
   "metadata": {},
   "outputs": [
    {
     "name": "stdout",
     "output_type": "stream",
     "text": [
      "1\n",
      "2\n",
      "3\n",
      "4\n",
      "5\n"
     ]
    }
   ],
   "source": [
    "count = 1\n",
    "while count <= 5:\n",
    "  print(count)\n",
    "  count += 1"
   ]
  },
  {
   "cell_type": "markdown",
   "id": "abc6e871",
   "metadata": {},
   "source": [
    "2.Countdown\n",
    "from 5 to 1"
   ]
  },
  {
   "cell_type": "code",
   "execution_count": null,
   "id": "b20016e3",
   "metadata": {},
   "outputs": [
    {
     "name": "stdout",
     "output_type": "stream",
     "text": [
      "5\n",
      "4\n",
      "3\n",
      "2\n",
      "1\n"
     ]
    }
   ],
   "source": [
    "count= 5\n",
    "while count>=1:\n",
    "  print(count)\n",
    "  count-= 1"
   ]
  },
  {
   "cell_type": "markdown",
   "id": "eebe9061",
   "metadata": {},
   "source": [
    "3.Using  while loop that iterates till the user enters \"exit\""
   ]
  },
  {
   "cell_type": "code",
   "execution_count": null,
   "id": "e3774839",
   "metadata": {},
   "outputs": [],
   "source": [
    "while True:\n",
    "  user_input = input(\"Enter a command (type 'exit' to quit): \")\n",
    "  if user_input.lower() == \"exit\":\n",
    "    break\n",
    "  print(f\"Executing command: {user_input}\")\n",
    "\n",
    "print(\"Program terminated.\")"
   ]
  },
  {
   "cell_type": "markdown",
   "id": "f09751ac",
   "metadata": {},
   "source": [
    "4.Summing Numbers"
   ]
  },
  {
   "cell_type": "code",
   "execution_count": null,
   "id": "d8304bc8",
   "metadata": {},
   "outputs": [],
   "source": [
    "num = 1\n",
    "total = 0\n",
    "while num <= 10:\n",
    "  total += num\n",
    "  num += 1\n",
    "print(f\"The sum is: {total}\")"
   ]
  },
  {
   "cell_type": "markdown",
   "id": "b3c5221d",
   "metadata": {},
   "source": [
    "5.Loop with a condition: \n",
    "This loop continues to run as long as the variable is_running is True. The loop can be stopped by changing the variable's value."
   ]
  },
  {
   "cell_type": "code",
   "execution_count": null,
   "id": "b571eb03",
   "metadata": {},
   "outputs": [],
   "source": [
    "is_running = True\n",
    "count = 0\n",
    "while is_running:\n",
    "  print(\"Loop is running...\")\n",
    "  count += 1\n",
    "  if count == 3:\n",
    "    is_running=False\n",
    "print(\"Loop has stopped.\")"
   ]
  },
  {
   "cell_type": "code",
   "execution_count": null,
   "id": "6cdfdc78",
   "metadata": {},
   "outputs": [],
   "source": [
    "is_running = True\n",
    "count = 0\n",
    "while is_running:\n",
    "  print(\"Loop is running...\")\n",
    "  count += 1\n",
    "  if count == 3:\n",
    "    is_running = False\n",
    "print(\"Loop has stopped.\")"
   ]
  },
  {
   "cell_type": "markdown",
   "id": "a7fe23b0",
   "metadata": {},
   "source": [
    "6. Processing a List\n",
    "This loop processes and removes items from a list until the list is empty."
   ]
  },
  {
   "cell_type": "code",
   "execution_count": null,
   "id": "c70f7e81",
   "metadata": {},
   "outputs": [],
   "source": [
    "tasks = [\"wash dishes\", \"mow lawn\", \"walk dog\"]\n",
    "while tasks:\n",
    "  current_task = tasks.pop(0)\n",
    "  print(f\"I am doing: {current_task}\")\n",
    "print(\"All tasks are done!\")"
   ]
  },
  {
   "cell_type": "code",
   "execution_count": null,
   "id": "00539314",
   "metadata": {},
   "outputs": [],
   "source": [
    "tasks = [\"wash dishes\", \"mow lawn\", \"walk dog\"]\n",
    "count = 0\n",
    "while count < len(tasks):\n",
    "  current_task = tasks[count]\n",
    "  print(f\"I am doing: {current_task}\")\n",
    "  count += 1\n",
    "print(\"All tasks are done!\")"
   ]
  },
  {
   "cell_type": "markdown",
   "id": "f954e2fe",
   "metadata": {},
   "source": [
    "7. Printing Even Numbers\n"
   ]
  },
  {
   "cell_type": "code",
   "execution_count": null,
   "id": "5e1e5994",
   "metadata": {},
   "outputs": [],
   "source": [
    "i = 0\n",
    "while i <= 10:\n",
    "  if i % 2 == 0:\n",
    "    print(i)\n",
    "  i += 1"
   ]
  },
  {
   "cell_type": "markdown",
   "id": "96e2df2f",
   "metadata": {},
   "source": [
    "To ckeck the given input is even or odd"
   ]
  },
  {
   "cell_type": "code",
   "execution_count": null,
   "id": "3a868fe2",
   "metadata": {},
   "outputs": [],
   "source": [
    "\n",
    "try:\n",
    "  number = int(input(\"Enter an integer: \"))\n",
    "  if number % 2 == 0:\n",
    "    print(f\"The number {number} is Even.\")\n",
    "  else:\n",
    "    print(f\"The number {number} is Odd.\")\n",
    "except ValueError:\n",
    "  print(\"Invalid input. Please enter a whole number.\")"
   ]
  },
  {
   "cell_type": "markdown",
   "id": "2249eb09",
   "metadata": {},
   "source": [
    "8. Password Prompt:\n",
    "This loop prompts the user for a password and will only exit when the correct password is entered."
   ]
  },
  {
   "cell_type": "code",
   "execution_count": null,
   "id": "5d64cf13",
   "metadata": {},
   "outputs": [],
   "source": [
    "password = \"\"\n",
    "while password != \"secret\":\n",
    "  password = input(\"Enter the password: \")\n",
    "print(\"Access granted!\")"
   ]
  },
  {
   "cell_type": "code",
   "execution_count": null,
   "id": "1e573279",
   "metadata": {},
   "outputs": [],
   "source": [
    "password = \"\"\n",
    "while True:\n",
    "    password = input(\"Enter the password: \")\n",
    "    if password.lower() == \"secret\":\n",
    "        print(\"Access granted!\")\n",
    "        break\n",
    "    else:\n",
    "        print(\"Incorrect password. Try again.\")"
   ]
  },
  {
   "cell_type": "markdown",
   "id": "3bf8cb9e",
   "metadata": {},
   "source": [
    "9. while True with a break\n",
    "This pattern creates an infinite loop that can only be exited with a break statement, often based on a user's action or an event."
   ]
  },
  {
   "cell_type": "code",
   "execution_count": null,
   "id": "d805b092",
   "metadata": {},
   "outputs": [],
   "source": [
    "while True:\n",
    "  command = input(\"Enter a command ('stop' to exit): \")\n",
    "  if command.lower() == \"stop\":\n",
    "    print(\"Exiting...\")\n",
    "    break\n",
    "  print(f\"Executing: {command}\")\n"
   ]
  },
  {
   "cell_type": "markdown",
   "id": "60a964f8",
   "metadata": {},
   "source": [
    "10. Accesing list items using for Loop"
   ]
  },
  {
   "cell_type": "code",
   "execution_count": null,
   "id": "b7dc059f",
   "metadata": {},
   "outputs": [],
   "source": [
    "fruits = [\"apple\", \"banana\", \"cherry\"]\n",
    "for fruit in fruits:\n",
    "  print(f\"I like {fruit}\")"
   ]
  },
  {
   "cell_type": "code",
   "execution_count": null,
   "id": "64dcf692",
   "metadata": {},
   "outputs": [],
   "source": [
    "fruits = [\"apple\", \"banana\", \"cherry\"]\n",
    "count=0\n",
    "while count<len(fruits):\n",
    "    my_fruit=fruits[count]\n",
    "    print(f\"I like {my_fruit}\")\n",
    "    count += 1\n",
    "print(\"Those are my lovely fruits\")"
   ]
  },
  {
   "cell_type": "markdown",
   "id": "61732134",
   "metadata": {},
   "source": [
    "11.Sum of List Elements"
   ]
  },
  {
   "cell_type": "code",
   "execution_count": null,
   "id": "79e52688",
   "metadata": {},
   "outputs": [],
   "source": [
    "my_list=[1,2,3,4,4,5]\n",
    "sum=0\n",
    "for i in my_list:\n",
    "    total_sum=sum+i\n",
    "print(total_sum)\n",
    "    "
   ]
  },
  {
   "cell_type": "markdown",
   "id": "58514977",
   "metadata": {},
   "source": [
    "12.sum of list elements using for loop"
   ]
  },
  {
   "cell_type": "code",
   "execution_count": null,
   "id": "468775f4",
   "metadata": {},
   "outputs": [],
   "source": [
    "numbers = [10, 20, 30, 40, 5324]\n",
    "total_sum = 0\n",
    "for number in numbers:\n",
    "  total_sum += number\n",
    "print(f\"The sum is: {total_sum}\")"
   ]
  },
  {
   "cell_type": "markdown",
   "id": "955bcc85",
   "metadata": {},
   "source": [
    "13.countdown\n"
   ]
  },
  {
   "cell_type": "code",
   "execution_count": null,
   "id": "249c58d4",
   "metadata": {},
   "outputs": [],
   "source": [
    "count = 10\n",
    "while count >= 1:\n",
    "  print(count)\n",
    "  count -= 1"
   ]
  },
  {
   "cell_type": "markdown",
   "id": "84ff7c74",
   "metadata": {},
   "source": [
    "14.Multiplication table "
   ]
  },
  {
   "cell_type": "code",
   "execution_count": null,
   "id": "56e88f12",
   "metadata": {},
   "outputs": [],
   "source": [
    "number = int(input(\"Enter a numer\"))\n",
    "for i in range(1, 11):\n",
    "  result = number * i\n",
    "  print(f\"{number} x {i} = {result}\")"
   ]
  },
  {
   "cell_type": "markdown",
   "id": "95d96924",
   "metadata": {},
   "source": [
    "15.upper triangle pattern"
   ]
  },
  {
   "cell_type": "code",
   "execution_count": null,
   "id": "be2779e5",
   "metadata": {},
   "outputs": [],
   "source": [
    "x=5\n",
    "for row in range(1 ,x+1):\n",
    "  for col in range(row):\n",
    "    print(\"*\", end=\" \")\n",
    "  print()"
   ]
  }
 ],
 "metadata": {
  "kernelspec": {
   "display_name": "Python 3",
   "language": "python",
   "name": "python3"
  },
  "language_info": {
   "codemirror_mode": {
    "name": "ipython",
    "version": 3
   },
   "file_extension": ".py",
   "mimetype": "text/x-python",
   "name": "python",
   "nbconvert_exporter": "python",
   "pygments_lexer": "ipython3",
   "version": "3.10.11"
  }
 },
 "nbformat": 4,
 "nbformat_minor": 5
}
